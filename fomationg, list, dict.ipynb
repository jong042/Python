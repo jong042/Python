{
 "cells": [
  {
   "cell_type": "code",
   "execution_count": 18,
   "id": "ed32f638",
   "metadata": {},
   "outputs": [],
   "source": [
    "%config Completer.use_jedi = False"
   ]
  },
  {
   "cell_type": "code",
   "execution_count": 9,
   "id": "8ccee18c",
   "metadata": {},
   "outputs": [
    {
     "data": {
      "text/plain": [
       "'오늘은 2022년, 9월, 21일 입니다. 오늘 날씨는 맑음입니다. 온도는 19.9235입니다.'"
      ]
     },
     "execution_count": 9,
     "metadata": {},
     "output_type": "execute_result"
    }
   ],
   "source": [
    "# f 문자열 포매팅\n",
    "Y = 2022\n",
    "m = 9\n",
    "d = 21\n",
    "날씨 = \"맑음\"\n",
    "온도 = 19.92345111\n",
    "today_weather = f'오늘은 {Y}년, {m}월, {d}일 입니다. 오늘 날씨는 {날씨}입니다. 온도는 {온도:0.4f}입니다.'\n",
    "today_weather"
   ]
  },
  {
   "cell_type": "code",
   "execution_count": 101,
   "id": "17517727",
   "metadata": {},
   "outputs": [
    {
     "data": {
      "text/plain": [
       "[2, 3]"
      ]
     },
     "execution_count": 101,
     "metadata": {},
     "output_type": "execute_result"
    }
   ],
   "source": [
    "#리스트삭제, del a[x]는 x번째 요솟값을 삭제한다.\n",
    "\n",
    "num_list = [1,2,3]\n",
    "del num_list[:1]    #슬라이싱 기법을 통한 삭제\n",
    "num_list"
   ]
  },
  {
   "cell_type": "code",
   "execution_count": 104,
   "id": "35c72578",
   "metadata": {},
   "outputs": [
    {
     "name": "stdout",
     "output_type": "stream",
     "text": [
      "[1, 1, 2, 3]\n"
     ]
    }
   ],
   "source": [
    "#리스트 함수\n",
    "#리스트에 요소 삽입, .insert(a,b) -> a번째 위치에 b를 삽입하는 것.\n",
    "num_list.insert(0,1)\n",
    "print(num_list)\n"
   ]
  },
  {
   "cell_type": "code",
   "execution_count": 120,
   "id": "87e6825d",
   "metadata": {},
   "outputs": [
    {
     "name": "stdout",
     "output_type": "stream",
     "text": [
      "[1, 1, 2, 3, 4, 4, 4, 4, 4, 5]\n"
     ]
    }
   ],
   "source": [
    "\n",
    "#리스트에 요소 추가, .append(x) -> 리스트의 맨 마지막에 x를 추가한다.\n",
    "num_list.append(5)\n",
    "print(num_list)"
   ]
  },
  {
   "cell_type": "code",
   "execution_count": 116,
   "id": "ef01987d",
   "metadata": {},
   "outputs": [
    {
     "name": "stdout",
     "output_type": "stream",
     "text": [
      "None\n"
     ]
    }
   ],
   "source": [
    "#리스트 정렬, .sort()\n",
    "x = num_list.sort()\n",
    "print(x)"
   ]
  },
  {
   "cell_type": "code",
   "execution_count": 113,
   "id": "b108d290",
   "metadata": {},
   "outputs": [
    {
     "name": "stdout",
     "output_type": "stream",
     "text": [
      "None\n"
     ]
    }
   ],
   "source": [
    "#리스트 뒤집기, .reverse\n",
    "num_list.reverse()\n",
    "print(num_list.reverse())"
   ]
  },
  {
   "cell_type": "code",
   "execution_count": 123,
   "id": "7b5f2017",
   "metadata": {},
   "outputs": [
    {
     "data": {
      "text/plain": [
       "9"
      ]
     },
     "execution_count": 123,
     "metadata": {},
     "output_type": "execute_result"
    }
   ],
   "source": [
    "#리스트의 위치반환, .index\n",
    "num_list.index(5)"
   ]
  },
  {
   "cell_type": "code",
   "execution_count": 127,
   "id": "b70c70e3",
   "metadata": {},
   "outputs": [
    {
     "name": "stdout",
     "output_type": "stream",
     "text": [
      "[2, 3, 4, 4, 4, 5]\n",
      "[2, 3, 4, 4, 5]\n",
      "[2, 3, 4, 5]\n"
     ]
    }
   ],
   "source": [
    "for i in range(3):\n",
    "    num_list.remove(4)\n",
    "    print(num_list)"
   ]
  },
  {
   "cell_type": "code",
   "execution_count": 129,
   "id": "e01fab33",
   "metadata": {},
   "outputs": [
    {
     "name": "stdout",
     "output_type": "stream",
     "text": [
      "[1, 2, 3, 4, 5]\n"
     ]
    }
   ],
   "source": [
    "num_list.insert(0,1)\n",
    "print(num_list)"
   ]
  },
  {
   "cell_type": "code",
   "execution_count": 151,
   "id": "d22733c8",
   "metadata": {},
   "outputs": [
    {
     "name": "stdout",
     "output_type": "stream",
     "text": [
      "['name', 'phone', 'birth']\n",
      "bar\n",
      "{'name': 'pey', 'phone': '0119993323', 'birth': '1118'}\n",
      "{'name': 'pey', 'phone': '0119993323', 'birth': '1118', 'year': '2022'}\n"
     ]
    }
   ],
   "source": [
    "#딕셔너리의 key의 value를 얻기 위해서는 딕셔너리변수이름[key], \n",
    "#딕셔너리에는 순서가 없기 때문에 인덱싱과 햇갈리면 안됨.\n",
    "딕셔너리 = {'name': 'pey', 'phone': '0119993323', 'birth': '1118'}\n",
    "print(list(딕셔너리.keys()))\n",
    "list(list(딕셔너리.values()))\n",
    "딕셔너리.items()\n",
    "print(딕셔너리.get('foo', 'bar'))\n",
    "print(딕셔너리)\n",
    "딕셔너리.setdefault('year','2022')\n",
    "print(딕셔너리)"
   ]
  },
  {
   "cell_type": "code",
   "execution_count": 160,
   "id": "84851ec9",
   "metadata": {},
   "outputs": [
    {
     "name": "stdout",
     "output_type": "stream",
     "text": [
      "success\n"
     ]
    },
    {
     "data": {
      "text/plain": [
       "65"
      ]
     },
     "execution_count": 160,
     "metadata": {},
     "output_type": "execute_result"
    }
   ],
   "source": [
    "# <expr1> if <conditional_expr> else <expr2>\n",
    "# print('x는 1이다') if x == 1 else print('x는 1이 아니다')\n",
    "score = 65\n",
    "print(\"success\") if score >= 60 else print(\"failure\")\n",
    "score"
   ]
  },
  {
   "cell_type": "code",
   "execution_count": 164,
   "id": "ea696234",
   "metadata": {},
   "outputs": [
    {
     "name": "stdout",
     "output_type": "stream",
     "text": [
      "나무를 1번 찍었습니다.\n",
      "나무를 2번 찍었습니다.\n",
      "나무를 3번 찍었습니다.\n",
      "나무를 4번 찍었습니다.\n",
      "나무를 5번 찍었습니다.\n",
      "나무를 6번 찍었습니다.\n",
      "나무를 7번 찍었습니다.\n",
      "나무를 8번 찍었습니다.\n",
      "나무를 9번 찍었습니다.\n",
      "나무를 10번 찍었습니다.\n",
      "나무 넘어갑니다.\n"
     ]
    }
   ],
   "source": [
    "treeHit = 0\n",
    "while treeHit < 10:\n",
    "    treeHit = treeHit +1\n",
    "    print(f'나무를 {treeHit}q')\n",
    "    if treeHit == 10:\n",
    "        print(\"나무 넘어갑니다.\")"
   ]
  }
 ],
 "metadata": {
  "kernelspec": {
   "display_name": "Python 3 (ipykernel)",
   "language": "python",
   "name": "python3"
  },
  "language_info": {
   "codemirror_mode": {
    "name": "ipython",
    "version": 3
   },
   "file_extension": ".py",
   "mimetype": "text/x-python",
   "name": "python",
   "nbconvert_exporter": "python",
   "pygments_lexer": "ipython3",
   "version": "3.9.12"
  }
 },
 "nbformat": 4,
 "nbformat_minor": 5
}
